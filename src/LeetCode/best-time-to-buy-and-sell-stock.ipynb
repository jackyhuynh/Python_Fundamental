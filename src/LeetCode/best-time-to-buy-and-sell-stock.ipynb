{
 "cells": [
  {
   "cell_type": "markdown",
   "id": "ce88c136",
   "metadata": {},
   "source": [
    "\n",
    "\n",
    "You are given an array prices where prices[i] is the price of a given stock on the ith day.\n",
    "\n",
    "You want to maximize your profit by choosing a single day to buy one stock and choosing a different day in the future to sell that stock.\n",
    "\n",
    "Return the maximum profit you can achieve from this transaction. If you cannot achieve any profit, return 0.\n",
    "\n",
    " \n",
    "\n",
    "Example 1:\n",
    "\n",
    "Input: prices = [7,1,5,3,6,4]\n",
    "Output: 5\n",
    "Explanation: Buy on day 2 (price = 1) and sell on day 5 (price = 6), profit = 6-1 = 5.\n",
    "Note that buying on day 2 and selling on day 1 is not allowed because you must buy before you sell.\n",
    "Example 2:\n",
    "\n",
    "Input: prices = [7,6,4,3,1]\n",
    "Output: 0\n",
    "Explanation: In this case, no transactions are done and the max profit = 0.\n",
    " \n",
    "\n",
    "Constraints:\n",
    "\n",
    "1 <= prices.length <= 105\n",
    "0 <= prices[i] <= 104"
   ]
  },
  {
   "cell_type": "markdown",
   "id": "94fea489",
   "metadata": {},
   "source": []
  },
  {
   "cell_type": "code",
   "execution_count": 1,
   "id": "14bf15a7",
   "metadata": {},
   "outputs": [
    {
     "name": "stdout",
     "output_type": "stream",
     "text": [
      "[5, 6]\n",
      "[2]\n"
     ]
    }
   ],
   "source": [
    "def findDisappearedNumbers(nums):\n",
    "    n = len(nums)  # Get the size of the array\n",
    "    full_set = set(range(1, n + 1))  # Create a set with all numbers from 1 to n\n",
    "    nums_set = set(nums)  # Convert the given array to a set to remove duplicates\n",
    "    \n",
    "    return list(full_set - nums_set)  # Find missing numbers by subtracting sets\n",
    "\n",
    "# Example test cases\n",
    "print(findDisappearedNumbers([4,3,2,7,8,2,3,1]))  # Output: [5,6]\n",
    "print(findDisappearedNumbers([1,1]))  # Output: [2]\n"
   ]
  },
  {
   "cell_type": "markdown",
   "id": "7fb15714",
   "metadata": {},
   "source": [
    "The set `{0, 1, 3, 15}` wouldn't naturally appear in our solution because the problem states that `nums[i]` is always **within the range [1, n]**. However, I understand your concern—let's go over why the approach works and how to handle unexpected values.\n",
    "\n",
    "### **Why the Approach Works**\n",
    "- The set **`full_set`** is always `{1, 2, ..., n}` (all valid numbers in the expected range).\n",
    "- The set **`nums_set`** is derived directly from `nums`, so it should only contain numbers from `1` to `n` as per the problem statement.\n",
    "- The difference **`full_set - nums_set`** correctly finds missing numbers **only if `nums_set` contains numbers within [1, n]**.\n",
    "\n",
    "### **Handling Unexpected Values**\n",
    "If `nums` contains numbers **outside** the valid range (like `0` or `15` in your example), we should filter out invalid values.\n",
    "\n",
    "#### **Updated Solution (Handling Out-of-Range Numbers)**\n",
    "```python\n",
    "def findDisappearedNumbers(nums):\n",
    "    n = len(nums)  # Get the size of the array\n",
    "    full_set = set(range(1, n + 1))  # Create a set with all numbers from 1 to n\n",
    "    nums_set = {num for num in nums if 1 <= num <= n}  # Filter out invalid numbers\n",
    "    \n",
    "    return list(full_set - nums_set)  # Find missing numbers\n",
    "\n",
    "# Example test cases\n",
    "print(findDisappearedNumbers([4,3,2,7,8,2,3,1]))  # Output: [5,6]\n",
    "print(findDisappearedNumbers([1,1]))  # Output: [2]\n",
    "print(findDisappearedNumbers([0, 1, 3, 15]))  # Output: [2, 4] (assuming n=4)\n",
    "```\n"
   ]
  },
  {
   "cell_type": "code",
   "execution_count": 4,
   "id": "6038ead5",
   "metadata": {},
   "outputs": [
    {
     "name": "stdout",
     "output_type": "stream",
     "text": [
      "[5, 6]\n",
      "[2]\n",
      "[2, 4]\n"
     ]
    }
   ],
   "source": [
    "def findDisappearedNumbers(nums):\n",
    "    n = len(nums)  # Get the size of the array\n",
    "    full_set = set(range(1, n + 1))  # Create a set with all numbers from 1 to n\n",
    "    nums_set = {num for num in nums if 1 <= num <= n}  # Filter out invalid numbers\n",
    "    \n",
    "    return list(full_set - nums_set)  # Find missing numbers\n",
    "\n",
    "# Example test cases\n",
    "print(findDisappearedNumbers([4,3,2,7,8,2,3,1]))  # Output: [5,6]\n",
    "print(findDisappearedNumbers([1,1]))  # Output: [2]\n",
    "print(findDisappearedNumbers([0, 1, 3, 15]))  # Output: [2, 4] (assuming n=4)\n"
   ]
  }
 ],
 "metadata": {
  "kernelspec": {
   "display_name": "Python 3",
   "language": "python",
   "name": "python3"
  },
  "language_info": {
   "codemirror_mode": {
    "name": "ipython",
    "version": 3
   },
   "file_extension": ".py",
   "mimetype": "text/x-python",
   "name": "python",
   "nbconvert_exporter": "python",
   "pygments_lexer": "ipython3",
   "version": "3.9.6"
  }
 },
 "nbformat": 4,
 "nbformat_minor": 5
}
